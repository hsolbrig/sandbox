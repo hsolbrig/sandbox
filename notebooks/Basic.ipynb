{
 "cells": [
  {
   "cell_type": "markdown",
   "metadata": {},
   "source": [
    "# Basic script w/ no external dependencies\n",
    "The following script shows how the reduce function can be used to apply sequential lists of regular expressions"
   ]
  },
  {
   "cell_type": "code",
   "execution_count": 9,
   "metadata": {},
   "outputs": [
    {
     "data": {
      "text/plain": [
       "'<head>'"
      ]
     },
     "execution_count": 9,
     "metadata": {},
     "output_type": "execute_result"
    }
   ],
   "source": [
    "import re\n",
    "from functools import reduce\n",
    "\n",
    "repl = [(r'&gt;',        r'>'),\n",
    "        (r'&lt;',        r'<'),\n",
    "        (r'&quot;',      r'\"'),\n",
    "        (r'<br ?/>',     r''),\n",
    "        (r'</?p>',       r'')]\n",
    "\n",
    "def fix(text: str) -> str:\n",
    "    return reduce(lambda text, repl_ent: re.sub(repl_ent[0], repl_ent[1], text, flags=re.M + re.S), repl, text)\n",
    "\n",
    "\n",
    "fix(\"&lt;head&gt;&lt;p&gt;\")"
   ]
  },
  {
   "cell_type": "code",
   "execution_count": null,
   "metadata": {
    "collapsed": true
   },
   "outputs": [],
   "source": []
  }
 ],
 "metadata": {
  "kernelspec": {
   "display_name": "Python 3",
   "language": "python",
   "name": "python3"
  },
  "language_info": {
   "codemirror_mode": {
    "name": "ipython",
    "version": 3
   },
   "file_extension": ".py",
   "mimetype": "text/x-python",
   "name": "python",
   "nbconvert_exporter": "python",
   "pygments_lexer": "ipython3",
   "version": "3.6.3"
  }
 },
 "nbformat": 4,
 "nbformat_minor": 2
}
